{
 "cells": [
  {
   "cell_type": "markdown",
   "metadata": {},
   "source": [
    "# Implement Jaccard score for 5/20 news groups "
   ]
  },
  {
   "cell_type": "markdown",
   "metadata": {},
   "source": [
    "# Project scope\n",
    "\n",
    "## Requiremets for result\n",
    "### Build a comparison table and analyse: \n",
    "1. The most efficient number of words per class profile (20, 50, 100)\n",
    "2. The best classifier\n",
    "3. The best combiation of both\n",
    "\n",
    "## [Imports](#imports)\n",
    " **Import necessary libs and objects from skleran**\n",
    " \n",
    "### Dataset\n",
    "- fetch_20newsgroups (select 5 from 20)\n",
    "\n",
    "### Metrics\n",
    "- confusion_matrix\n",
    "- classification_report\n",
    "- accuracy_score\n",
    "- jaccard_similarity_score\n",
    "\n",
    "### Classifier\n",
    "- SGDClassifier\n",
    "- LogisticRegression\n",
    "- KNeighborsClassifier\n",
    "\n",
    "### Vectorizer\n",
    "- CountVectorizer\n",
    "- TfidfTransformer\n",
    "\n",
    "## General algorithm \n",
    "\n",
    "### [Prepare row sets](#prep)\n",
    "1. Unpack grops of selected categories separetely\n",
    "2. Remove: headers, footers, quotes\n",
    "3. Split to train and test sets\n",
    "\n",
    "### [Vectorize sets](#vect)\n",
    "**for each set**\n",
    "- remove stop words\n",
    "- calculate count score (fit, transform)\n",
    "- calculate TF-IDF score (fit, transform)\n",
    "\n",
    "### [Build Jaccard profiles](#bjp)\n",
    "After basic vectorizstion and cleaning data calculate jaccard score for each word. \n",
    "Based on requirements build a profiles for each class\n",
    "\n",
    "### [Train classifier](#train)\n",
    "1. Combine all profiles to single vector\n",
    "2. Train classifier on each calculated class profile (5 classe by 3 profile: 20, 50, 100 words)\n",
    "\n",
    "### [Test prediction](#pred)\n",
    "Run a predict method to predict values using trained classifier\n",
    "\n",
    "### [Calculate accuracy](#report)\n",
    "Using imported metrics calculate accurasy of each cobmination of classifier-class profile\n",
    "Calsulated info store in a disct:\n",
    "\n",
    "```\n",
    "{\n",
    "    'class_crofile_name' : {\n",
    "        'valume_of_profile': number_of_words,\n",
    "        'accuracy': accuracy_of_prediction,\n",
    "    }\n",
    "}\n",
    "```"
   ]
  },
  {
   "cell_type": "markdown",
   "metadata": {},
   "source": [
    "## Import libs and dataset<a id=\"imports\"></a>"
   ]
  },
  {
   "cell_type": "code",
   "execution_count": 200,
   "metadata": {},
   "outputs": [],
   "source": [
    "import numpy as np\n",
    "from sklearn.datasets import fetch_20newsgroups\n",
    "from sklearn.metrics import confusion_matrix, classification_report, accuracy_score, jaccard_similarity_score\n",
    "from sklearn.linear_model import SGDClassifier\n",
    "from sklearn.feature_extraction.text import CountVectorizer, TfidfTransformer\n",
    "from sklearn.pipeline import Pipeline\n"
   ]
  },
  {
   "cell_type": "markdown",
   "metadata": {},
   "source": [
    "## Import 20 news groups dataset and select 5 gorups <a id=\"prep\"></a>"
   ]
  },
  {
   "cell_type": "code",
   "execution_count": 201,
   "metadata": {},
   "outputs": [
    {
     "name": "stdout",
     "output_type": "stream",
     "text": [
      "5\n"
     ]
    }
   ],
   "source": [
    "datasets = []\n",
    "categories = ['sci.space', 'comp.graphics', 'talk.politics.misc', 'rec.sport.hockey', 'comp.sys.mac.hardware'] \n",
    "remove = ('headers', 'footers', 'quotes')\n",
    "# twenty_train = fetch_20newsgroups(subset='train', shuffle=True, random_state=42, categories = categories, remove = remove )\n",
    "# twenty_test = fetch_20newsgroups(subset='test', shuffle=True, random_state=42, categories = categories, remove = remove )\n",
    "\n",
    "for category in categories:\n",
    "    train = fetch_20newsgroups(subset='train', shuffle=True, random_state=42, categories = [category], remove = remove )\n",
    "    test = fetch_20newsgroups(subset='test', shuffle=True, random_state=42, categories = [category], remove = remove )\n",
    "    datasets.append((train, test))\n",
    "print(len(datasets))"
   ]
  },
  {
   "cell_type": "markdown",
   "metadata": {},
   "source": [
    "## Vectorization <a id=\"vect\"></a>"
   ]
  },
  {
   "cell_type": "code",
   "execution_count": 202,
   "metadata": {
    "collapsed": true
   },
   "outputs": [],
   "source": [
    "vectores = []\n",
    "for train, test in datasets:\n",
    "    vect = CountVectorizer(max_features=100,stop_words = 'english')\n",
    "    vect.fit(train.data)\n",
    "    train_data = vect.transform(train.data)\n",
    "    test_data = vect.transform(test.data)\n",
    "    vectores.append((train_data, test_data))\n",
    "\n"
   ]
  },
  {
   "cell_type": "code",
   "execution_count": 203,
   "metadata": {},
   "outputs": [],
   "source": [
    "\n",
    "tfidf_vectores = []\n",
    "for target, data in enumerate(vectores):\n",
    "    tfidf = TfidfTransformer(use_idf = True).fit(data[0])\n",
    "    train_data_tfidf = tfidf.transform(data[0])\n",
    "    tfidf_vectores.append((train_data_tfidf, str(target)))"
   ]
  },
  {
   "cell_type": "code",
   "execution_count": 204,
   "metadata": {},
   "outputs": [
    {
     "name": "stdout",
     "output_type": "stream",
     "text": [
      "0\n",
      "[('simms', 63.638236720259407), ('info', 40.217516084378431), ('got', 34.489623755977327), ('meg', 28.974849998822815), ('think', 28.337530277047314), ('computer', 27.555136319539837), ('hard', 25.862687158568772), ('time', 24.214750077698607), ('nubus', 23.623757516146643), ('need', 22.128767174173799)]\n",
      "100\n",
      "1\n",
      "[('hard', 37.584925681349404), ('support', 32.852919317138479), ('machine', 30.786586539794023), ('cpu', 28.24911095519138), ('info', 25.856203116615056), ('macs', 25.612822548625736), ('time', 24.688387491054481), ('drive', 24.669020709429397), ('drives', 24.240591856766716), ('plus', 23.668381802928767)]\n",
      "100\n",
      "2\n",
      "[('modem', 42.89142619285699), ('cd', 28.872638336374333), ('disk', 27.732359486938975), ('external', 26.007861078641259), ('support', 23.939126792300943), ('good', 23.59494928308845), ('hardware', 20.737195960640889), ('cache', 20.348902965458109), ('mb', 19.729841803797793), ('just', 19.50207281270664)]\n",
      "100\n",
      "3\n",
      "[('mb', 52.349835237372403), ('used', 48.657122613379769), ('nubus', 45.692029623961879), ('macs', 36.287294395516483), ('power', 36.096157784330536), ('order', 35.4187448151159), ('ve', 34.432549648563388), ('think', 33.090444204642743), ('right', 32.397574549549716), ('works', 32.122383920875542)]\n",
      "100\n",
      "4\n",
      "[('mac', 37.551050497433955), ('apple', 33.95314301710345), ('drive', 31.221180153541866), ('thanks', 28.393792423109392), ('problem', 27.992755656348784), ('does', 27.789964636944465), ('know', 27.636196103699088), ('use', 27.308527977186806), ('just', 26.776405833337662), ('like', 23.261250048888936)]\n",
      "100\n"
     ]
    }
   ],
   "source": [
    "for id, train_data_tfidf in enumerate(tfidf_vectores): \n",
    "    x = list(zip(vect.get_feature_names(), np.ravel(train_data_tfidf[0].sum(axis=0))))\n",
    "    def SortbyTF(inputStr):\n",
    "        return inputStr[1]\n",
    "    x.sort(key=SortbyTF, reverse = True)\n",
    "    print(id)\n",
    "    print (x[:10])\n",
    "    print(len(x))\n"
   ]
  },
  {
   "cell_type": "code",
   "execution_count": 205,
   "metadata": {},
   "outputs": [
    {
     "name": "stdout",
     "output_type": "stream",
     "text": [
      "  (0, 81)\t0.24338042058\n",
      "  (0, 70)\t0.240111412061\n",
      "  (0, 57)\t0.19245402276\n",
      "  (0, 51)\t0.618257619408\n",
      "  (0, 49)\t0.262746294047\n",
      "  (0, 47)\t0.267417319792\n",
      "  (0, 44)\t0.4542787188\n",
      "  (0, 43)\t0.222108681869\n",
      "  (0, 35)\t0.178021884141\n",
      "  (0, 22)\t0.189448134682\n",
      "  (1, 88)\t1.0\n",
      "  (2, 87)\t0.562759780593\n",
      "  (2, 59)\t0.200405047324\n",
      "  (2, 37)\t0.209602495037\n",
      "  (2, 36)\t0.229120084951\n",
      "  (2, 21)\t0.185035244722\n",
      "  (2, 18)\t0.499462998855\n",
      "  (2, 14)\t0.451292962504\n",
      "  (2, 9)\t0.243604926224\n",
      "  (3, 96)\t0.492178785263\n",
      "  (3, 87)\t0.415248161336\n",
      "  (3, 83)\t0.545882535585\n",
      "  (3, 19)\t0.536042223325\n",
      "  (4, 78)\t0.357944761115\n",
      "  (4, 43)\t0.603230782449\n",
      "  :\t:\n",
      "  (589, 99)\t0.550455838342\n",
      "  (589, 88)\t0.501723439292\n",
      "  (589, 70)\t0.667287015084\n",
      "  (590, 97)\t0.396581114922\n",
      "  (590, 91)\t0.386116807029\n",
      "  (590, 75)\t0.403344690913\n",
      "  (590, 59)\t0.337725769444\n",
      "  (590, 52)\t0.316123907474\n",
      "  (590, 34)\t0.28634575941\n",
      "  (590, 29)\t0.371118527622\n",
      "  (590, 21)\t0.31182433393\n",
      "  (591, 92)\t0.711348154595\n",
      "  (591, 23)\t0.702839813154\n",
      "  (592, 96)\t0.153460174096\n",
      "  (592, 94)\t0.162425870347\n",
      "  (592, 78)\t0.0958528811532\n",
      "  (592, 73)\t0.160664914142\n",
      "  (592, 59)\t0.138320762075\n",
      "  (592, 53)\t0.174630429929\n",
      "  (592, 51)\t0.449652071749\n",
      "  (592, 44)\t0.495587989491\n",
      "  (592, 32)\t0.330391992994\n",
      "  (592, 21)\t0.255424864817\n",
      "  (592, 15)\t0.455991833066\n",
      "  (592, 2)\t0.187922001075\n",
      "  (0, 83)\t0.186596271156\n",
      "  (0, 46)\t0.378903200893\n",
      "  (0, 43)\t0.506337657913\n",
      "  (0, 25)\t0.251829727692\n",
      "  (0, 22)\t0.20706502065\n",
      "  (0, 14)\t0.628369144406\n",
      "  (0, 10)\t0.253168828957\n",
      "  (1, 89)\t0.394501145567\n",
      "  (1, 79)\t0.159583578133\n",
      "  (1, 76)\t0.24905834726\n",
      "  (1, 63)\t0.801818389998\n",
      "  (1, 55)\t0.112587059575\n",
      "  (1, 48)\t0.102754002763\n",
      "  (1, 46)\t0.098927787558\n",
      "  (1, 45)\t0.11618105262\n",
      "  (1, 38)\t0.122271034393\n",
      "  (1, 16)\t0.128178536945\n",
      "  (1, 6)\t0.189895282895\n",
      "  (2, 99)\t0.17330745659\n",
      "  (2, 96)\t0.162213395155\n",
      "  (2, 92)\t0.148269030853\n",
      "  (2, 84)\t0.150327968181\n",
      "  (2, 83)\t0.117622839758\n",
      "  (2, 72)\t0.178080567596\n",
      "  (2, 66)\t0.171088856215\n",
      "  :\t:\n",
      "  (581, 7)\t0.166333976579\n",
      "  (581, 4)\t0.385597486268\n",
      "  (581, 0)\t0.25498653199\n",
      "  (582, 98)\t0.16264719753\n",
      "  (582, 75)\t0.217813651033\n",
      "  (582, 64)\t0.205899311147\n",
      "  (582, 57)\t0.170139793712\n",
      "  (582, 49)\t0.17116310865\n",
      "  (582, 46)\t0.121712345107\n",
      "  (582, 45)\t0.285878593273\n",
      "  (582, 42)\t0.180232242953\n",
      "  (582, 39)\t0.288221148273\n",
      "  (582, 35)\t0.120970259483\n",
      "  (582, 16)\t0.157699982068\n",
      "  (582, 13)\t0.3423262173\n",
      "  (582, 10)\t0.650588790121\n",
      "  (582, 9)\t0.182791026586\n",
      "  (583, 83)\t0.177081922784\n",
      "  (583, 74)\t0.282719727064\n",
      "  (583, 63)\t0.728613589663\n",
      "  (583, 46)\t0.179791661826\n",
      "  (583, 38)\t0.222215749582\n",
      "  (583, 37)\t0.424015366947\n",
      "  (583, 22)\t0.196506992186\n",
      "  (583, 3)\t0.24026001561\n",
      "  (0, 96)\t1.0\n",
      "  (1, 92)\t0.132021672218\n",
      "  (1, 89)\t0.530902225011\n",
      "  (1, 83)\t0.107904781239\n",
      "  (1, 81)\t0.143984529549\n",
      "  (1, 78)\t0.142188695974\n",
      "  (1, 74)\t0.126147384081\n",
      "  (1, 71)\t0.124942053515\n",
      "  (1, 63)\t0.143077449709\n",
      "  (1, 55)\t0.0896658812558\n",
      "  (1, 52)\t0.452756738053\n",
      "  (1, 51)\t0.120965894728\n",
      "  (1, 42)\t0.149858817687\n",
      "  (1, 41)\t0.11303585017\n",
      "  (1, 38)\t0.287969059098\n",
      "  (1, 37)\t0.272849050149\n",
      "  (1, 15)\t0.288809587943\n",
      "  (1, 14)\t0.137203161571\n",
      "  (1, 13)\t0.126147384081\n",
      "  (1, 12)\t0.118330866847\n",
      "  (1, 11)\t0.14882366843\n",
      "  (1, 8)\t0.146823696143\n",
      "  (2, 97)\t0.733114879795\n",
      "  (2, 74)\t0.329198162734\n",
      "  (2, 70)\t0.334084109212\n",
      "  :\t:\n",
      "  (460, 23)\t0.540023475471\n",
      "  (460, 15)\t0.35171619371\n",
      "  (461, 93)\t0.308603117524\n",
      "  (461, 90)\t0.255484925902\n",
      "  (461, 83)\t0.220646645896\n",
      "  (461, 71)\t0.510969851805\n",
      "  (461, 42)\t0.306435406298\n",
      "  (461, 39)\t0.280556774774\n",
      "  (461, 36)\t0.216612083486\n",
      "  (461, 33)\t0.224009866127\n",
      "  (461, 22)\t0.261778097114\n",
      "  (461, 15)\t0.196855246359\n",
      "  (461, 4)\t0.263091341793\n",
      "  (461, 2)\t0.288969973318\n",
      "  (462, 78)\t0.200106270163\n",
      "  (462, 64)\t0.213921300189\n",
      "  (462, 41)\t0.318157251773\n",
      "  (462, 24)\t0.497444144045\n",
      "  (462, 17)\t0.56338567169\n",
      "  (462, 13)\t0.177530867319\n",
      "  (462, 10)\t0.245547001621\n",
      "  (462, 5)\t0.395356156831\n",
      "  (463, 64)\t0.259406744174\n",
      "  (463, 58)\t0.534633347375\n",
      "  (463, 24)\t0.80428559912\n",
      "  (0, 87)\t0.294880525662\n",
      "  (0, 85)\t0.343514993086\n",
      "  (0, 78)\t0.337397707769\n",
      "  (0, 74)\t0.276437460458\n",
      "  (0, 69)\t0.328823271752\n",
      "  (0, 67)\t0.563298018969\n",
      "  (0, 63)\t0.31467209378\n",
      "  (0, 61)\t0.283443316264\n",
      "  (1, 99)\t0.169550442291\n",
      "  (1, 98)\t0.191153163382\n",
      "  (1, 97)\t0.270688071157\n",
      "  (1, 90)\t0.270410897715\n",
      "  (1, 86)\t0.209770608596\n",
      "  (1, 77)\t0.176809311624\n",
      "  (1, 75)\t0.20070591384\n",
      "  (1, 74)\t0.16002699486\n",
      "  (1, 66)\t0.362932563881\n",
      "  (1, 57)\t0.411159399625\n",
      "  (1, 37)\t0.588549223524\n",
      "  (2, 99)\t0.0196463425206\n",
      "  (2, 97)\t0.0313654773786\n",
      "  (2, 91)\t0.0433942092813\n",
      "  (2, 90)\t0.235000203156\n",
      "  (2, 88)\t0.0239395669142\n",
      "  (2, 87)\t0.118679711512\n",
      "  :\t:\n",
      "  (598, 67)\t0.0969706267044\n",
      "  (598, 52)\t0.820632433765\n",
      "  (598, 51)\t0.0834872561154\n",
      "  (598, 13)\t0.135945426931\n",
      "  (598, 8)\t0.132621068548\n",
      "  (598, 3)\t0.260617025666\n",
      "  (598, 2)\t0.129568401639\n",
      "  (599, 78)\t0.0329345343694\n",
      "  (599, 51)\t0.0236699648856\n",
      "  (599, 21)\t0.428924140994\n",
      "  (599, 20)\t0.0410311061186\n",
      "  (599, 19)\t0.0407239473633\n",
      "  (599, 18)\t0.0395772907808\n",
      "  (599, 17)\t0.0387920252861\n",
      "  (599, 16)\t0.0401351161567\n",
      "  (599, 15)\t0.037828066938\n",
      "  (599, 14)\t0.0382990882642\n",
      "  (599, 13)\t0.0385426906038\n",
      "  (599, 12)\t0.0393090173355\n",
      "  (599, 11)\t0.4802789655\n",
      "  (599, 10)\t0.0770853812076\n",
      "  (599, 9)\t0.0365289439109\n",
      "  (599, 6)\t0.411148047842\n",
      "  (599, 5)\t0.037828066938\n",
      "  (599, 0)\t0.626105840266\n",
      "  (0, 69)\t0.649987437102\n",
      "  (0, 42)\t0.289577955289\n",
      "  (0, 34)\t0.384128008638\n",
      "  (0, 6)\t0.588308263074\n",
      "  (1, 98)\t0.333317123508\n",
      "  (1, 86)\t0.290786786853\n",
      "  (1, 77)\t0.405406865626\n",
      "  (1, 60)\t0.432387731889\n",
      "  (1, 49)\t0.379381415681\n",
      "  (1, 42)\t0.279863134417\n",
      "  (1, 25)\t0.286104991998\n",
      "  (1, 13)\t0.385900457848\n",
      "  (2, 95)\t0.352646589444\n",
      "  (2, 87)\t0.282112113283\n",
      "  (2, 86)\t0.23338432298\n",
      "  (2, 85)\t0.327541742681\n",
      "  (2, 78)\t0.3232650631\n",
      "  (2, 68)\t0.646530126199\n",
      "  (2, 43)\t0.334364767847\n",
      "  (4, 26)\t1.0\n",
      "  (5, 77)\t1.0\n",
      "  (6, 45)\t0.956151160635\n",
      "  (6, 36)\t0.292873621235\n",
      "  (7, 83)\t0.425227459391\n",
      "  (7, 56)\t0.710813811082\n",
      "  :\t:\n",
      "  (575, 0)\t0.458834721637\n",
      "  (576, 79)\t0.440803873605\n",
      "  (576, 57)\t0.434498321944\n",
      "  (576, 42)\t0.34432295659\n",
      "  (576, 39)\t0.502099661863\n",
      "  (576, 25)\t0.35200247773\n",
      "  (576, 6)\t0.349764263522\n",
      "  (577, 98)\t0.0794979035862\n",
      "  (577, 97)\t0.0931285871243\n",
      "  (577, 92)\t0.081578200757\n",
      "  (577, 91)\t0.0904844818316\n",
      "  (577, 88)\t0.0876227814448\n",
      "  (577, 81)\t0.0942642322617\n",
      "  (577, 73)\t0.192127621313\n",
      "  (577, 58)\t0.0798335511958\n",
      "  (577, 53)\t0.0904844818316\n",
      "  (577, 42)\t0.0667488433929\n",
      "  (577, 32)\t0.108481392883\n",
      "  (577, 30)\t0.0948507093452\n",
      "  (577, 23)\t0.201609980008\n",
      "  (577, 19)\t0.107510972008\n",
      "  (577, 18)\t0.113946051858\n",
      "  (577, 8)\t0.0973347000422\n",
      "  (577, 7)\t0.668152567503\n",
      "  (577, 3)\t0.596503375376\n"
     ]
    }
   ],
   "source": [
    "for id, train_data_tfidf in enumerate(tfidf_vectores): \n",
    "    print(train_data_tfidf[0])"
   ]
  },
  {
   "cell_type": "markdown",
   "metadata": {},
   "source": [
    "## Build Jaccard profiles <a id=\"bjp\"></a>"
   ]
  },
  {
   "cell_type": "code",
   "execution_count": 206,
   "metadata": {},
   "outputs": [
    {
     "data": {
      "text/plain": [
       "'Here will be my function'"
      ]
     },
     "execution_count": 206,
     "metadata": {},
     "output_type": "execute_result"
    }
   ],
   "source": [
    "\"\"\"Here will be my function\"\"\""
   ]
  },
  {
   "cell_type": "markdown",
   "metadata": {},
   "source": [
    "## Train Classifier <a id=\"train\"></a> ...work in progress..."
   ]
  },
  {
   "cell_type": "code",
   "execution_count": 207,
   "metadata": {},
   "outputs": [],
   "source": [
    "final_train_data = []\n",
    "target = []\n",
    "for data, t in tfidf_vectores:\n",
    "    final_train_data += data\n",
    "    target"
   ]
  },
  {
   "cell_type": "code",
   "execution_count": 209,
   "metadata": {
    "collapsed": true
   },
   "outputs": [],
   "source": [
    "clf = SGDClassifier(loss='hinge', penalty='l2',alpha=1e-3, random_state=42,max_iter=5, tol=None)"
   ]
  },
  {
   "cell_type": "code",
   "execution_count": 211,
   "metadata": {},
   "outputs": [],
   "source": [
    "clf.fit(final_train_data, target)"
   ]
  },
  {
   "cell_type": "markdown",
   "metadata": {},
   "source": [
    "## Make Predictions <a id=\"pred\"></a>"
   ]
  },
  {
   "cell_type": "code",
   "execution_count": null,
   "metadata": {
    "collapsed": true
   },
   "outputs": [],
   "source": [
    "prediction = clf.predict(test_data,)"
   ]
  },
  {
   "cell_type": "markdown",
   "metadata": {},
   "source": [
    "## Reporting <a id=\"report\"></a>"
   ]
  },
  {
   "cell_type": "code",
   "execution_count": null,
   "metadata": {
    "collapsed": true
   },
   "outputs": [],
   "source": [
    "np.mean(prediction == twenty_test.target)"
   ]
  },
  {
   "cell_type": "markdown",
   "metadata": {},
   "source": [
    "# Training without Jaccard"
   ]
  },
  {
   "cell_type": "code",
   "execution_count": 188,
   "metadata": {
    "collapsed": true
   },
   "outputs": [],
   "source": [
    "# categories = ['sci.space',] \n",
    "categories = ['sci.space', 'comp.graphics', 'talk.politics.misc', 'rec.sport.hockey', 'comp.sys.mac.hardware'] \n",
    "remove = ('headers', 'footers', 'quotes')\n",
    "twenty_train = fetch_20newsgroups(subset='train', shuffle=True, random_state=42, categories = categories, remove = remove )\n",
    "twenty_test = fetch_20newsgroups(subset='test', shuffle=True, random_state=42, categories = categories, remove = remove )\n"
   ]
  },
  {
   "cell_type": "code",
   "execution_count": 189,
   "metadata": {},
   "outputs": [],
   "source": [
    "vect = CountVectorizer(stop_words = 'english')"
   ]
  },
  {
   "cell_type": "code",
   "execution_count": 190,
   "metadata": {},
   "outputs": [
    {
     "data": {
      "text/plain": [
       "CountVectorizer(analyzer='word', binary=False, decode_error='strict',\n",
       "        dtype=<class 'numpy.int64'>, encoding='utf-8', input='content',\n",
       "        lowercase=True, max_df=1.0, max_features=None, min_df=1,\n",
       "        ngram_range=(1, 1), preprocessor=None, stop_words='english',\n",
       "        strip_accents=None, token_pattern='(?u)\\\\b\\\\w\\\\w+\\\\b',\n",
       "        tokenizer=None, vocabulary=None)"
      ]
     },
     "execution_count": 190,
     "metadata": {},
     "output_type": "execute_result"
    }
   ],
   "source": [
    "vect.fit(twenty_train.data)"
   ]
  },
  {
   "cell_type": "code",
   "execution_count": 191,
   "metadata": {},
   "outputs": [],
   "source": [
    "\n",
    "\n",
    "train_data = vect.transform(twenty_train.data)\n",
    "test_data = vect.transform(twenty_test.data)\n"
   ]
  },
  {
   "cell_type": "code",
   "execution_count": 192,
   "metadata": {},
   "outputs": [],
   "source": [
    "tfidf = TfidfTransformer(use_idf = True).fit(train_data)\n",
    "train_data_tfidf = tfidf.transform(train_data)\n"
   ]
  },
  {
   "cell_type": "code",
   "execution_count": 193,
   "metadata": {},
   "outputs": [
    {
     "name": "stdout",
     "output_type": "stream",
     "text": [
      "[('space', 1086), ('don', 962), ('like', 953), ('just', 896), ('know', 871), ('think', 849), ('people', 833), ('time', 771), ('new', 750), ('10', 692)]\n",
      "31002\n"
     ]
    }
   ],
   "source": [
    "x = list(zip(vect.get_feature_names(), np.ravel(train_data.sum(axis=0))))\n",
    "def SortbyTF(inputStr):\n",
    "    return inputStr[1]\n",
    "x.sort(key=SortbyTF, reverse = True)\n",
    "print (x[:10])\n",
    "print(len(x))\n"
   ]
  },
  {
   "cell_type": "code",
   "execution_count": 194,
   "metadata": {},
   "outputs": [],
   "source": [
    "clf = SGDClassifier(loss='hinge', penalty='l2',alpha=1e-3, random_state=42,max_iter=5, tol=None)"
   ]
  },
  {
   "cell_type": "code",
   "execution_count": 195,
   "metadata": {},
   "outputs": [
    {
     "data": {
      "text/plain": [
       "SGDClassifier(alpha=0.001, average=False, class_weight=None, epsilon=0.1,\n",
       "       eta0=0.0, fit_intercept=True, l1_ratio=0.15,\n",
       "       learning_rate='optimal', loss='hinge', max_iter=5, n_iter=None,\n",
       "       n_jobs=1, penalty='l2', power_t=0.5, random_state=42, shuffle=True,\n",
       "       tol=None, verbose=0, warm_start=False)"
      ]
     },
     "execution_count": 195,
     "metadata": {},
     "output_type": "execute_result"
    }
   ],
   "source": [
    "clf.fit(train_data_tfidf, twenty_train.target)"
   ]
  },
  {
   "cell_type": "code",
   "execution_count": 196,
   "metadata": {
    "collapsed": true
   },
   "outputs": [],
   "source": [
    "prediction = clf.predict(test_data,)"
   ]
  },
  {
   "cell_type": "code",
   "execution_count": 197,
   "metadata": {},
   "outputs": [
    {
     "data": {
      "text/plain": [
       "array([3, 1, 3, 4, 3, 2, 1, 2, 2, 2])"
      ]
     },
     "execution_count": 197,
     "metadata": {},
     "output_type": "execute_result"
    }
   ],
   "source": [
    "prediction[:10]"
   ]
  },
  {
   "cell_type": "code",
   "execution_count": 198,
   "metadata": {},
   "outputs": [
    {
     "name": "stdout",
     "output_type": "stream",
     "text": [
      "[3 0 3 4 3 2 1 2 2 2]\n"
     ]
    }
   ],
   "source": [
    "print (twenty_test.target[:10])"
   ]
  },
  {
   "cell_type": "code",
   "execution_count": 199,
   "metadata": {},
   "outputs": [
    {
     "data": {
      "text/plain": [
       "0.85935002663825255"
      ]
     },
     "execution_count": 199,
     "metadata": {},
     "output_type": "execute_result"
    }
   ],
   "source": [
    "np.mean(prediction == twenty_test.target)"
   ]
  },
  {
   "cell_type": "code",
   "execution_count": null,
   "metadata": {
    "collapsed": true
   },
   "outputs": [],
   "source": []
  }
 ],
 "metadata": {
  "kernelspec": {
   "display_name": "Python 3",
   "language": "python",
   "name": "python3"
  },
  "language_info": {
   "codemirror_mode": {
    "name": "ipython",
    "version": 3
   },
   "file_extension": ".py",
   "mimetype": "text/x-python",
   "name": "python",
   "nbconvert_exporter": "python",
   "pygments_lexer": "ipython3",
   "version": "3.6.3"
  }
 },
 "nbformat": 4,
 "nbformat_minor": 2
}
